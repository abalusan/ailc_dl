{
 "cells": [
  {
   "cell_type": "code",
   "execution_count": 1,
   "metadata": {},
   "outputs": [],
   "source": [
    "import torch\n",
    "import torch.nn as nn\n",
    "import torch.nn.functional as F\n",
    "import torch.optim as optim"
   ]
  },
  {
   "cell_type": "code",
   "execution_count": 2,
   "metadata": {},
   "outputs": [
    {
     "name": "stdout",
     "output_type": "stream",
     "text": [
      "tensor(1)\n"
     ]
    }
   ],
   "source": [
    "word_to_idx = {\"I\": 0, \"love\": 1, \"eating\": 2, \"and\": 3, \"sleeping\": 4}\n",
    "embeddings = nn.Embedding(5,7) # 5 words in vocab, embedding size is 7\n",
    "word_index = torch.tensor(word_to_idx[\"love\"])\n",
    "print(word_index)"
   ]
  },
  {
   "cell_type": "code",
   "execution_count": 4,
   "metadata": {},
   "outputs": [
    {
     "name": "stdout",
     "output_type": "stream",
     "text": [
      "tensor([-0.2887, -1.2974,  1.1971,  1.0400,  0.2099,  0.4339,  2.2324],\n",
      "       grad_fn=<EmbeddingBackward0>)\n",
      "torch.Size([7])\n"
     ]
    }
   ],
   "source": [
    "love = embeddings(word_index)\n",
    "print(love)\n",
    "print(love.shape)"
   ]
  },
  {
   "cell_type": "code",
   "execution_count": 6,
   "metadata": {},
   "outputs": [
    {
     "name": "stdout",
     "output_type": "stream",
     "text": [
      "tensor([0, 1, 2, 3, 4])\n",
      "tensor([[ 0.6054, -1.5928, -1.6199, -0.6544, -0.9149,  1.3558,  0.0747],\n",
      "        [-0.2887, -1.2974,  1.1971,  1.0400,  0.2099,  0.4339,  2.2324],\n",
      "        [-0.6239, -0.8104, -0.6596,  0.1033, -0.7934,  0.0460, -1.1173],\n",
      "        [-0.8125,  0.4852, -1.1718,  1.3177, -1.2259,  0.2414, -0.4878],\n",
      "        [ 0.2467, -0.9847, -2.1208,  0.0981,  0.9216, -1.0878, -1.1428]],\n",
      "       grad_fn=<EmbeddingBackward0>)\n",
      "torch.Size([5, 7])\n"
     ]
    }
   ],
   "source": [
    "all_ind = torch.tensor([w for w in range(5)], dtype = torch.long)\n",
    "all_words = embeddings(all_ind)\n",
    "print(all_ind)\n",
    "print(all_words)\n",
    "print(all_words.shape)"
   ]
  },
  {
   "cell_type": "code",
   "execution_count": 7,
   "metadata": {},
   "outputs": [],
   "source": [
    "# Try N-Gram skip model for word embeddings. "
   ]
  },
  {
   "cell_type": "code",
   "execution_count": null,
   "metadata": {},
   "outputs": [],
   "source": []
  }
 ],
 "metadata": {
  "kernelspec": {
   "display_name": ".course_venv",
   "language": "python",
   "name": "python3"
  },
  "language_info": {
   "codemirror_mode": {
    "name": "ipython",
    "version": 3
   },
   "file_extension": ".py",
   "mimetype": "text/x-python",
   "name": "python",
   "nbconvert_exporter": "python",
   "pygments_lexer": "ipython3",
   "version": "3.11.1"
  }
 },
 "nbformat": 4,
 "nbformat_minor": 2
}
